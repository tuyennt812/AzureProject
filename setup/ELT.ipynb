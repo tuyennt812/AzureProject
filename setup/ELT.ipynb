{
  "nbformat": 4,
  "nbformat_minor": 2,
  "metadata": {
    "language_info": {
      "name": "python"
    },
    "kernelspec": {
      "name": "synapse_pyspark",
      "display_name": "python"
    },
    "description": null,
    "save_output": true,
    "synapse_widget": {
      "version": "0.1",
      "state": {}
    }
  },
  "cells": [
    {
      "cell_type": "markdown",
      "metadata": {
        "nteract": {
          "transient": {
            "deleting": false
          }
        }
      },
      "source": [
        "# Import data"
      ]
    },
    {
      "cell_type": "code",
      "execution_count": 1,
      "outputs": [
        {
          "output_type": "display_data",
          "data": {
            "application/vnd.livy.statement-meta+json": {
              "spark_pool": "spark3a6ce9m",
              "statement_id": 2,
              "statement_ids": [
                2
              ],
              "livy_statement_state": "available",
              "spark_jobs": null,
              "session_id": "1",
              "state": "finished",
              "normalized_state": "finished",
              "queued_time": "2024-07-09T08:29:54.7555492Z",
              "session_start_time": "2024-07-09T08:29:54.8118025Z",
              "execution_start_time": "2024-07-09T08:33:42.3050218Z",
              "execution_finish_time": "2024-07-09T08:34:08.9916504Z",
              "parent_msg_id": "8e42cd97-587e-49ce-bae5-6bde46f8f6b3"
            },
            "text/plain": "StatementMeta(spark3a6ce9m, 1, 2, Finished, Available, Finished)"
          },
          "metadata": {}
        }
      ],
      "metadata": {},
      "source": [
        "demographics = spark.read.csv(\"/data/demographics.csv\",header=True, inferSchema=True)"
      ]
    },
    {
      "cell_type": "code",
      "execution_count": 2,
      "outputs": [
        {
          "output_type": "display_data",
          "data": {
            "application/vnd.livy.statement-meta+json": {
              "spark_pool": "spark3a6ce9m",
              "statement_id": 3,
              "statement_ids": [
                3
              ],
              "livy_statement_state": "available",
              "spark_jobs": null,
              "session_id": "1",
              "state": "finished",
              "normalized_state": "finished",
              "queued_time": "2024-07-09T08:29:54.7574314Z",
              "session_start_time": null,
              "execution_start_time": "2024-07-09T08:34:09.1471568Z",
              "execution_finish_time": "2024-07-09T08:34:28.5384169Z",
              "parent_msg_id": "ea5d9c5a-1e4f-4197-955c-f5f9122daeea"
            },
            "text/plain": "StatementMeta(spark3a6ce9m, 1, 3, Finished, Available, Finished)"
          },
          "metadata": {}
        }
      ],
      "metadata": {
        "jupyter": {
          "source_hidden": false,
          "outputs_hidden": false
        },
        "nteract": {
          "transient": {
            "deleting": false
          }
        }
      },
      "source": [
        "credit = spark.read.csv(\"/data/credits.csv\",header=True, inferSchema=True)"
      ]
    },
    {
      "cell_type": "code",
      "execution_count": 3,
      "outputs": [
        {
          "output_type": "display_data",
          "data": {
            "application/vnd.livy.statement-meta+json": {
              "spark_pool": "spark3a6ce9m",
              "statement_id": 4,
              "statement_ids": [
                4
              ],
              "livy_statement_state": "available",
              "spark_jobs": null,
              "session_id": "1",
              "state": "finished",
              "normalized_state": "finished",
              "queued_time": "2024-07-09T08:29:54.759365Z",
              "session_start_time": null,
              "execution_start_time": "2024-07-09T08:34:28.6555714Z",
              "execution_finish_time": "2024-07-09T08:34:29.712237Z",
              "parent_msg_id": "17954226-f51d-42b7-b118-1eda58248f4d"
            },
            "text/plain": "StatementMeta(spark3a6ce9m, 1, 4, Finished, Available, Finished)"
          },
          "metadata": {}
        }
      ],
      "metadata": {
        "jupyter": {
          "source_hidden": false,
          "outputs_hidden": false
        },
        "nteract": {
          "transient": {
            "deleting": false
          }
        }
      },
      "source": [
        "churn = spark.read.csv(\"/data/churn.csv\",header=True, inferSchema=True)"
      ]
    },
    {
      "cell_type": "markdown",
      "metadata": {
        "nteract": {
          "transient": {
            "deleting": false
          }
        }
      },
      "source": [
        "# Joint dataframe"
      ]
    },
    {
      "cell_type": "code",
      "execution_count": 4,
      "outputs": [
        {
          "output_type": "display_data",
          "data": {
            "application/vnd.livy.statement-meta+json": {
              "spark_pool": "spark3a6ce9m",
              "statement_id": 5,
              "statement_ids": [
                5
              ],
              "livy_statement_state": "available",
              "spark_jobs": null,
              "session_id": "1",
              "state": "finished",
              "normalized_state": "finished",
              "queued_time": "2024-07-09T08:29:54.7602942Z",
              "session_start_time": null,
              "execution_start_time": "2024-07-09T08:34:29.829624Z",
              "execution_finish_time": "2024-07-09T08:34:29.9742678Z",
              "parent_msg_id": "e09f17cf-5791-4602-a5a6-f5e35421a5b8"
            },
            "text/plain": "StatementMeta(spark3a6ce9m, 1, 5, Finished, Available, Finished)"
          },
          "metadata": {}
        }
      ],
      "metadata": {
        "jupyter": {
          "source_hidden": false,
          "outputs_hidden": false
        },
        "nteract": {
          "transient": {
            "deleting": false
          }
        }
      },
      "source": [
        "demo_credit = demographics.join(credit, on=\"customer_id\", how=\"inner\")\n",
        "merged_data =  demo_credit.join(churn, on=\"customer_id\", how=\"inner\")"
      ]
    },
    {
      "cell_type": "markdown",
      "metadata": {
        "nteract": {
          "transient": {
            "deleting": false
          }
        }
      },
      "source": [
        "# Drop columns customer_id"
      ]
    },
    {
      "cell_type": "code",
      "execution_count": 5,
      "outputs": [
        {
          "output_type": "display_data",
          "data": {
            "application/vnd.livy.statement-meta+json": {
              "spark_pool": "spark3a6ce9m",
              "statement_id": 6,
              "statement_ids": [
                6
              ],
              "livy_statement_state": "available",
              "spark_jobs": null,
              "session_id": "1",
              "state": "finished",
              "normalized_state": "finished",
              "queued_time": "2024-07-09T08:29:54.7617032Z",
              "session_start_time": null,
              "execution_start_time": "2024-07-09T08:34:30.0836775Z",
              "execution_finish_time": "2024-07-09T08:34:30.2265345Z",
              "parent_msg_id": "10c88475-ce74-4701-b02f-a986a392048a"
            },
            "text/plain": "StatementMeta(spark3a6ce9m, 1, 6, Finished, Available, Finished)"
          },
          "metadata": {}
        }
      ],
      "metadata": {
        "jupyter": {
          "source_hidden": false,
          "outputs_hidden": false
        },
        "nteract": {
          "transient": {
            "deleting": false
          }
        }
      },
      "source": [
        "merged_data = merged_data.drop(\"customer_id\")\n",
        ""
      ]
    },
    {
      "cell_type": "markdown",
      "metadata": {
        "nteract": {
          "transient": {
            "deleting": false
          }
        }
      },
      "source": [
        "# Save the merged data"
      ]
    },
    {
      "cell_type": "code",
      "execution_count": 8,
      "outputs": [
        {
          "output_type": "display_data",
          "data": {
            "application/vnd.livy.statement-meta+json": {
              "spark_pool": "spark3a6ce9m",
              "statement_id": 9,
              "statement_ids": [
                9
              ],
              "livy_statement_state": "available",
              "spark_jobs": null,
              "session_id": "1",
              "state": "finished",
              "normalized_state": "finished",
              "queued_time": "2024-07-09T08:46:32.2330225Z",
              "session_start_time": null,
              "execution_start_time": "2024-07-09T08:46:32.3418314Z",
              "execution_finish_time": "2024-07-09T08:46:34.1321709Z",
              "parent_msg_id": "fc6f5d02-2fd9-42ce-a087-ffa30a221a76"
            },
            "text/plain": "StatementMeta(spark3a6ce9m, 1, 9, Finished, Available, Finished)"
          },
          "metadata": {}
        },
        {
          "output_type": "stream",
          "name": "stdout",
          "text": [
            "Transformed data saved!\n"
          ]
        }
      ],
      "metadata": {
        "jupyter": {
          "source_hidden": false,
          "outputs_hidden": false
        },
        "nteract": {
          "transient": {
            "deleting": false
          }
        }
      },
      "source": [
        "merged_data.write.mode(\"overwrite\").option(\"header\", \"true\").csv('/data/merged_data')\n",
        "print (\"Transformed data saved!\")\n",
        "     "
      ]
    }
  ]
}
